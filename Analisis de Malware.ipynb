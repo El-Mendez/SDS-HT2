{
 "cells": [
  {
   "cell_type": "markdown",
   "id": "cfa2e695",
   "metadata": {},
   "source": [
    "Pablo Alejandro Mendez Morales #19195\n",
    "\n",
    "# Análisis de Malware"
   ]
  },
  {
   "cell_type": "code",
   "execution_count": 1,
   "id": "db50e6bb",
   "metadata": {},
   "outputs": [],
   "source": [
    "import pefile as pe\n",
    "from rich import print\n",
    "from rich.tree import Tree\n",
    "from rich.table import Table\n",
    "from hashlib import file_digest"
   ]
  },
  {
   "cell_type": "markdown",
   "id": "0e84265b",
   "metadata": {},
   "source": [
    "## Parte 1 - Análisis estático"
   ]
  },
  {
   "cell_type": "markdown",
   "id": "ad1cedfb",
   "metadata": {},
   "source": [
    "**1. Utilice la herramienta pefile para examinar el PE header y obtenga las DLL y las APIs que cada uno de los ejecutables utilizan. ¿Qué diferencias observa entre los ejemplos? ¿Existe algún indicio sospechoso en la cantidad de DLLs y las APIs llamadas?**"
   ]
  },
  {
   "cell_type": "code",
   "execution_count": 2,
   "id": "cb2ebc21",
   "metadata": {},
   "outputs": [],
   "source": [
    "sample_qwrty_dk2 = pe.PE(\"./MALWR/sample_qwrty_dk2\")\n",
    "sample_vg655_25th = pe.PE(\"./MALWR/sample_vg655_25th.exe\")"
   ]
  },
  {
   "cell_type": "code",
   "execution_count": 3,
   "id": "d54a8ace",
   "metadata": {},
   "outputs": [],
   "source": [
    "def inspect_pe(name: str, executable):\n",
    "    tree = Tree(\"[bold red]\" + name)\n",
    "    for entry in executable.DIRECTORY_ENTRY_IMPORT:\n",
    "        entry_node = tree.add(\"[bold green]\" + entry.dll.decode('ascii'))\n",
    "    \n",
    "        for function in entry.imports:\n",
    "            entry_node.add(\"[purple]\" + function.name.decode('ascii'))\n",
    "    \n",
    "    print(tree)"
   ]
  },
  {
   "cell_type": "code",
   "execution_count": 4,
   "id": "b6c054d6",
   "metadata": {},
   "outputs": [
    {
     "data": {
      "text/html": [
       "<pre style=\"white-space:pre;overflow-x:auto;line-height:normal;font-family:Menlo,'DejaVu Sans Mono',consolas,'Courier New',monospace\"><span style=\"color: #800000; text-decoration-color: #800000; font-weight: bold\">sample_qwrty_dk2</span>\n",
       "├── <span style=\"color: #008000; text-decoration-color: #008000; font-weight: bold\">KERNEL32.DLL</span>\n",
       "│   ├── <span style=\"color: #af00ff; text-decoration-color: #af00ff\">LoadLibraryA</span>\n",
       "│   ├── <span style=\"color: #af00ff; text-decoration-color: #af00ff\">ExitProcess</span>\n",
       "│   ├── <span style=\"color: #af00ff; text-decoration-color: #af00ff\">GetProcAddress</span>\n",
       "│   └── <span style=\"color: #af00ff; text-decoration-color: #af00ff\">VirtualProtect</span>\n",
       "├── <span style=\"color: #008000; text-decoration-color: #008000; font-weight: bold\">MSVCRT.dll</span>\n",
       "│   └── <span style=\"color: #af00ff; text-decoration-color: #af00ff\">atol</span>\n",
       "├── <span style=\"color: #008000; text-decoration-color: #008000; font-weight: bold\">SHELL32.dll</span>\n",
       "│   └── <span style=\"color: #af00ff; text-decoration-color: #af00ff\">SHChangeNotify</span>\n",
       "├── <span style=\"color: #008000; text-decoration-color: #008000; font-weight: bold\">USER32.dll</span>\n",
       "│   └── <span style=\"color: #af00ff; text-decoration-color: #af00ff\">LoadStringA</span>\n",
       "└── <span style=\"color: #008000; text-decoration-color: #008000; font-weight: bold\">WS2_32.dll</span>\n",
       "    └── <span style=\"color: #af00ff; text-decoration-color: #af00ff\">closesocket</span>\n",
       "</pre>\n"
      ],
      "text/plain": [
       "\u001b[1;31msample_qwrty_dk2\u001b[0m\n",
       "├── \u001b[1;32mKERNEL32.DLL\u001b[0m\n",
       "│   ├── \u001b[38;5;129mLoadLibraryA\u001b[0m\n",
       "│   ├── \u001b[38;5;129mExitProcess\u001b[0m\n",
       "│   ├── \u001b[38;5;129mGetProcAddress\u001b[0m\n",
       "│   └── \u001b[38;5;129mVirtualProtect\u001b[0m\n",
       "├── \u001b[1;32mMSVCRT.dll\u001b[0m\n",
       "│   └── \u001b[38;5;129matol\u001b[0m\n",
       "├── \u001b[1;32mSHELL32.dll\u001b[0m\n",
       "│   └── \u001b[38;5;129mSHChangeNotify\u001b[0m\n",
       "├── \u001b[1;32mUSER32.dll\u001b[0m\n",
       "│   └── \u001b[38;5;129mLoadStringA\u001b[0m\n",
       "└── \u001b[1;32mWS2_32.dll\u001b[0m\n",
       "    └── \u001b[38;5;129mclosesocket\u001b[0m\n"
      ]
     },
     "metadata": {},
     "output_type": "display_data"
    }
   ],
   "source": [
    " inspect_pe(\"sample_qwrty_dk2\", sample_qwrty_dk2)"
   ]
  },
  {
   "cell_type": "code",
   "execution_count": 5,
   "id": "8db12abe",
   "metadata": {
    "scrolled": false
   },
   "outputs": [
    {
     "data": {
      "text/html": [
       "<pre style=\"white-space:pre;overflow-x:auto;line-height:normal;font-family:Menlo,'DejaVu Sans Mono',consolas,'Courier New',monospace\"><span style=\"color: #800000; text-decoration-color: #800000; font-weight: bold\">sample_vg655_25th.exe</span>\n",
       "├── <span style=\"color: #008000; text-decoration-color: #008000; font-weight: bold\">KERNEL32.dll</span>\n",
       "│   ├── <span style=\"color: #af00ff; text-decoration-color: #af00ff\">GetFileAttributesW</span>\n",
       "│   ├── <span style=\"color: #af00ff; text-decoration-color: #af00ff\">GetFileSizeEx</span>\n",
       "│   ├── <span style=\"color: #af00ff; text-decoration-color: #af00ff\">CreateFileA</span>\n",
       "│   ├── <span style=\"color: #af00ff; text-decoration-color: #af00ff\">InitializeCriticalSection</span>\n",
       "│   ├── <span style=\"color: #af00ff; text-decoration-color: #af00ff\">DeleteCriticalSection</span>\n",
       "│   ├── <span style=\"color: #af00ff; text-decoration-color: #af00ff\">ReadFile</span>\n",
       "│   ├── <span style=\"color: #af00ff; text-decoration-color: #af00ff\">GetFileSize</span>\n",
       "│   ├── <span style=\"color: #af00ff; text-decoration-color: #af00ff\">WriteFile</span>\n",
       "│   ├── <span style=\"color: #af00ff; text-decoration-color: #af00ff\">LeaveCriticalSection</span>\n",
       "│   ├── <span style=\"color: #af00ff; text-decoration-color: #af00ff\">EnterCriticalSection</span>\n",
       "│   ├── <span style=\"color: #af00ff; text-decoration-color: #af00ff\">SetFileAttributesW</span>\n",
       "│   ├── <span style=\"color: #af00ff; text-decoration-color: #af00ff\">SetCurrentDirectoryW</span>\n",
       "│   ├── <span style=\"color: #af00ff; text-decoration-color: #af00ff\">CreateDirectoryW</span>\n",
       "│   ├── <span style=\"color: #af00ff; text-decoration-color: #af00ff\">GetTempPathW</span>\n",
       "│   ├── <span style=\"color: #af00ff; text-decoration-color: #af00ff\">GetWindowsDirectoryW</span>\n",
       "│   ├── <span style=\"color: #af00ff; text-decoration-color: #af00ff\">GetFileAttributesA</span>\n",
       "│   ├── <span style=\"color: #af00ff; text-decoration-color: #af00ff\">SizeofResource</span>\n",
       "│   ├── <span style=\"color: #af00ff; text-decoration-color: #af00ff\">LockResource</span>\n",
       "│   ├── <span style=\"color: #af00ff; text-decoration-color: #af00ff\">LoadResource</span>\n",
       "│   ├── <span style=\"color: #af00ff; text-decoration-color: #af00ff\">MultiByteToWideChar</span>\n",
       "│   ├── <span style=\"color: #af00ff; text-decoration-color: #af00ff\">Sleep</span>\n",
       "│   ├── <span style=\"color: #af00ff; text-decoration-color: #af00ff\">OpenMutexA</span>\n",
       "│   ├── <span style=\"color: #af00ff; text-decoration-color: #af00ff\">GetFullPathNameA</span>\n",
       "│   ├── <span style=\"color: #af00ff; text-decoration-color: #af00ff\">CopyFileA</span>\n",
       "│   ├── <span style=\"color: #af00ff; text-decoration-color: #af00ff\">GetModuleFileNameA</span>\n",
       "│   ├── <span style=\"color: #af00ff; text-decoration-color: #af00ff\">VirtualAlloc</span>\n",
       "│   ├── <span style=\"color: #af00ff; text-decoration-color: #af00ff\">VirtualFree</span>\n",
       "│   ├── <span style=\"color: #af00ff; text-decoration-color: #af00ff\">FreeLibrary</span>\n",
       "│   ├── <span style=\"color: #af00ff; text-decoration-color: #af00ff\">HeapAlloc</span>\n",
       "│   ├── <span style=\"color: #af00ff; text-decoration-color: #af00ff\">GetProcessHeap</span>\n",
       "│   ├── <span style=\"color: #af00ff; text-decoration-color: #af00ff\">GetModuleHandleA</span>\n",
       "│   ├── <span style=\"color: #af00ff; text-decoration-color: #af00ff\">SetLastError</span>\n",
       "│   ├── <span style=\"color: #af00ff; text-decoration-color: #af00ff\">VirtualProtect</span>\n",
       "│   ├── <span style=\"color: #af00ff; text-decoration-color: #af00ff\">IsBadReadPtr</span>\n",
       "│   ├── <span style=\"color: #af00ff; text-decoration-color: #af00ff\">HeapFree</span>\n",
       "│   ├── <span style=\"color: #af00ff; text-decoration-color: #af00ff\">SystemTimeToFileTime</span>\n",
       "│   ├── <span style=\"color: #af00ff; text-decoration-color: #af00ff\">LocalFileTimeToFileTime</span>\n",
       "│   ├── <span style=\"color: #af00ff; text-decoration-color: #af00ff\">CreateDirectoryA</span>\n",
       "│   ├── <span style=\"color: #af00ff; text-decoration-color: #af00ff\">GetStartupInfoA</span>\n",
       "│   ├── <span style=\"color: #af00ff; text-decoration-color: #af00ff\">SetFilePointer</span>\n",
       "│   ├── <span style=\"color: #af00ff; text-decoration-color: #af00ff\">SetFileTime</span>\n",
       "│   ├── <span style=\"color: #af00ff; text-decoration-color: #af00ff\">GetComputerNameW</span>\n",
       "│   ├── <span style=\"color: #af00ff; text-decoration-color: #af00ff\">GetCurrentDirectoryA</span>\n",
       "│   ├── <span style=\"color: #af00ff; text-decoration-color: #af00ff\">SetCurrentDirectoryA</span>\n",
       "│   ├── <span style=\"color: #af00ff; text-decoration-color: #af00ff\">GlobalAlloc</span>\n",
       "│   ├── <span style=\"color: #af00ff; text-decoration-color: #af00ff\">LoadLibraryA</span>\n",
       "│   ├── <span style=\"color: #af00ff; text-decoration-color: #af00ff\">GetProcAddress</span>\n",
       "│   ├── <span style=\"color: #af00ff; text-decoration-color: #af00ff\">GlobalFree</span>\n",
       "│   ├── <span style=\"color: #af00ff; text-decoration-color: #af00ff\">CreateProcessA</span>\n",
       "│   ├── <span style=\"color: #af00ff; text-decoration-color: #af00ff\">CloseHandle</span>\n",
       "│   ├── <span style=\"color: #af00ff; text-decoration-color: #af00ff\">WaitForSingleObject</span>\n",
       "│   ├── <span style=\"color: #af00ff; text-decoration-color: #af00ff\">TerminateProcess</span>\n",
       "│   ├── <span style=\"color: #af00ff; text-decoration-color: #af00ff\">GetExitCodeProcess</span>\n",
       "│   └── <span style=\"color: #af00ff; text-decoration-color: #af00ff\">FindResourceA</span>\n",
       "├── <span style=\"color: #008000; text-decoration-color: #008000; font-weight: bold\">USER32.dll</span>\n",
       "│   └── <span style=\"color: #af00ff; text-decoration-color: #af00ff\">wsprintfA</span>\n",
       "├── <span style=\"color: #008000; text-decoration-color: #008000; font-weight: bold\">ADVAPI32.dll</span>\n",
       "│   ├── <span style=\"color: #af00ff; text-decoration-color: #af00ff\">CreateServiceA</span>\n",
       "│   ├── <span style=\"color: #af00ff; text-decoration-color: #af00ff\">OpenServiceA</span>\n",
       "│   ├── <span style=\"color: #af00ff; text-decoration-color: #af00ff\">StartServiceA</span>\n",
       "│   ├── <span style=\"color: #af00ff; text-decoration-color: #af00ff\">CloseServiceHandle</span>\n",
       "│   ├── <span style=\"color: #af00ff; text-decoration-color: #af00ff\">CryptReleaseContext</span>\n",
       "│   ├── <span style=\"color: #af00ff; text-decoration-color: #af00ff\">RegCreateKeyW</span>\n",
       "│   ├── <span style=\"color: #af00ff; text-decoration-color: #af00ff\">RegSetValueExA</span>\n",
       "│   ├── <span style=\"color: #af00ff; text-decoration-color: #af00ff\">RegQueryValueExA</span>\n",
       "│   ├── <span style=\"color: #af00ff; text-decoration-color: #af00ff\">RegCloseKey</span>\n",
       "│   └── <span style=\"color: #af00ff; text-decoration-color: #af00ff\">OpenSCManagerA</span>\n",
       "└── <span style=\"color: #008000; text-decoration-color: #008000; font-weight: bold\">MSVCRT.dll</span>\n",
       "    ├── <span style=\"color: #af00ff; text-decoration-color: #af00ff\">realloc</span>\n",
       "    ├── <span style=\"color: #af00ff; text-decoration-color: #af00ff\">fclose</span>\n",
       "    ├── <span style=\"color: #af00ff; text-decoration-color: #af00ff\">fwrite</span>\n",
       "    ├── <span style=\"color: #af00ff; text-decoration-color: #af00ff\">fread</span>\n",
       "    ├── <span style=\"color: #af00ff; text-decoration-color: #af00ff\">fopen</span>\n",
       "    ├── <span style=\"color: #af00ff; text-decoration-color: #af00ff\">sprintf</span>\n",
       "    ├── <span style=\"color: #af00ff; text-decoration-color: #af00ff\">rand</span>\n",
       "    ├── <span style=\"color: #af00ff; text-decoration-color: #af00ff\">srand</span>\n",
       "    ├── <span style=\"color: #af00ff; text-decoration-color: #af00ff\">strcpy</span>\n",
       "    ├── <span style=\"color: #af00ff; text-decoration-color: #af00ff\">memset</span>\n",
       "    ├── <span style=\"color: #af00ff; text-decoration-color: #af00ff\">strlen</span>\n",
       "    ├── <span style=\"color: #af00ff; text-decoration-color: #af00ff\">wcscat</span>\n",
       "    ├── <span style=\"color: #af00ff; text-decoration-color: #af00ff\">wcslen</span>\n",
       "    ├── <span style=\"color: #af00ff; text-decoration-color: #af00ff\">__CxxFrameHandler</span>\n",
       "    ├── <span style=\"color: #af00ff; text-decoration-color: #af00ff\">??3@YAXPAX@Z</span>\n",
       "    ├── <span style=\"color: #af00ff; text-decoration-color: #af00ff\">memcmp</span>\n",
       "    ├── <span style=\"color: #af00ff; text-decoration-color: #af00ff\">_except_handler3</span>\n",
       "    ├── <span style=\"color: #af00ff; text-decoration-color: #af00ff\">_local_unwind2</span>\n",
       "    ├── <span style=\"color: #af00ff; text-decoration-color: #af00ff\">wcsrchr</span>\n",
       "    ├── <span style=\"color: #af00ff; text-decoration-color: #af00ff\">swprintf</span>\n",
       "    ├── <span style=\"color: #af00ff; text-decoration-color: #af00ff\">??2@YAPAXI@Z</span>\n",
       "    ├── <span style=\"color: #af00ff; text-decoration-color: #af00ff\">memcpy</span>\n",
       "    ├── <span style=\"color: #af00ff; text-decoration-color: #af00ff\">strcmp</span>\n",
       "    ├── <span style=\"color: #af00ff; text-decoration-color: #af00ff\">strrchr</span>\n",
       "    ├── <span style=\"color: #af00ff; text-decoration-color: #af00ff\">__p___argv</span>\n",
       "    ├── <span style=\"color: #af00ff; text-decoration-color: #af00ff\">__p___argc</span>\n",
       "    ├── <span style=\"color: #af00ff; text-decoration-color: #af00ff\">_stricmp</span>\n",
       "    ├── <span style=\"color: #af00ff; text-decoration-color: #af00ff\">free</span>\n",
       "    ├── <span style=\"color: #af00ff; text-decoration-color: #af00ff\">malloc</span>\n",
       "    ├── <span style=\"color: #af00ff; text-decoration-color: #af00ff\">??0exception@@QAE@ABV0@@Z</span>\n",
       "    ├── <span style=\"color: #af00ff; text-decoration-color: #af00ff\">??1exception@@UAE@XZ</span>\n",
       "    ├── <span style=\"color: #af00ff; text-decoration-color: #af00ff\">??0exception@@QAE@ABQBD@Z</span>\n",
       "    ├── <span style=\"color: #af00ff; text-decoration-color: #af00ff\">_CxxThrowException</span>\n",
       "    ├── <span style=\"color: #af00ff; text-decoration-color: #af00ff\">calloc</span>\n",
       "    ├── <span style=\"color: #af00ff; text-decoration-color: #af00ff\">strcat</span>\n",
       "    ├── <span style=\"color: #af00ff; text-decoration-color: #af00ff\">_mbsstr</span>\n",
       "    ├── <span style=\"color: #af00ff; text-decoration-color: #af00ff\">??1type_info@@UAE@XZ</span>\n",
       "    ├── <span style=\"color: #af00ff; text-decoration-color: #af00ff\">_exit</span>\n",
       "    ├── <span style=\"color: #af00ff; text-decoration-color: #af00ff\">_XcptFilter</span>\n",
       "    ├── <span style=\"color: #af00ff; text-decoration-color: #af00ff\">exit</span>\n",
       "    ├── <span style=\"color: #af00ff; text-decoration-color: #af00ff\">_acmdln</span>\n",
       "    ├── <span style=\"color: #af00ff; text-decoration-color: #af00ff\">__getmainargs</span>\n",
       "    ├── <span style=\"color: #af00ff; text-decoration-color: #af00ff\">_initterm</span>\n",
       "    ├── <span style=\"color: #af00ff; text-decoration-color: #af00ff\">__setusermatherr</span>\n",
       "    ├── <span style=\"color: #af00ff; text-decoration-color: #af00ff\">_adjust_fdiv</span>\n",
       "    ├── <span style=\"color: #af00ff; text-decoration-color: #af00ff\">__p__commode</span>\n",
       "    ├── <span style=\"color: #af00ff; text-decoration-color: #af00ff\">__p__fmode</span>\n",
       "    ├── <span style=\"color: #af00ff; text-decoration-color: #af00ff\">__set_app_type</span>\n",
       "    └── <span style=\"color: #af00ff; text-decoration-color: #af00ff\">_controlfp</span>\n",
       "</pre>\n"
      ],
      "text/plain": [
       "\u001b[1;31msample_vg655_25th.exe\u001b[0m\n",
       "├── \u001b[1;32mKERNEL32.dll\u001b[0m\n",
       "│   ├── \u001b[38;5;129mGetFileAttributesW\u001b[0m\n",
       "│   ├── \u001b[38;5;129mGetFileSizeEx\u001b[0m\n",
       "│   ├── \u001b[38;5;129mCreateFileA\u001b[0m\n",
       "│   ├── \u001b[38;5;129mInitializeCriticalSection\u001b[0m\n",
       "│   ├── \u001b[38;5;129mDeleteCriticalSection\u001b[0m\n",
       "│   ├── \u001b[38;5;129mReadFile\u001b[0m\n",
       "│   ├── \u001b[38;5;129mGetFileSize\u001b[0m\n",
       "│   ├── \u001b[38;5;129mWriteFile\u001b[0m\n",
       "│   ├── \u001b[38;5;129mLeaveCriticalSection\u001b[0m\n",
       "│   ├── \u001b[38;5;129mEnterCriticalSection\u001b[0m\n",
       "│   ├── \u001b[38;5;129mSetFileAttributesW\u001b[0m\n",
       "│   ├── \u001b[38;5;129mSetCurrentDirectoryW\u001b[0m\n",
       "│   ├── \u001b[38;5;129mCreateDirectoryW\u001b[0m\n",
       "│   ├── \u001b[38;5;129mGetTempPathW\u001b[0m\n",
       "│   ├── \u001b[38;5;129mGetWindowsDirectoryW\u001b[0m\n",
       "│   ├── \u001b[38;5;129mGetFileAttributesA\u001b[0m\n",
       "│   ├── \u001b[38;5;129mSizeofResource\u001b[0m\n",
       "│   ├── \u001b[38;5;129mLockResource\u001b[0m\n",
       "│   ├── \u001b[38;5;129mLoadResource\u001b[0m\n",
       "│   ├── \u001b[38;5;129mMultiByteToWideChar\u001b[0m\n",
       "│   ├── \u001b[38;5;129mSleep\u001b[0m\n",
       "│   ├── \u001b[38;5;129mOpenMutexA\u001b[0m\n",
       "│   ├── \u001b[38;5;129mGetFullPathNameA\u001b[0m\n",
       "│   ├── \u001b[38;5;129mCopyFileA\u001b[0m\n",
       "│   ├── \u001b[38;5;129mGetModuleFileNameA\u001b[0m\n",
       "│   ├── \u001b[38;5;129mVirtualAlloc\u001b[0m\n",
       "│   ├── \u001b[38;5;129mVirtualFree\u001b[0m\n",
       "│   ├── \u001b[38;5;129mFreeLibrary\u001b[0m\n",
       "│   ├── \u001b[38;5;129mHeapAlloc\u001b[0m\n",
       "│   ├── \u001b[38;5;129mGetProcessHeap\u001b[0m\n",
       "│   ├── \u001b[38;5;129mGetModuleHandleA\u001b[0m\n",
       "│   ├── \u001b[38;5;129mSetLastError\u001b[0m\n",
       "│   ├── \u001b[38;5;129mVirtualProtect\u001b[0m\n",
       "│   ├── \u001b[38;5;129mIsBadReadPtr\u001b[0m\n",
       "│   ├── \u001b[38;5;129mHeapFree\u001b[0m\n",
       "│   ├── \u001b[38;5;129mSystemTimeToFileTime\u001b[0m\n",
       "│   ├── \u001b[38;5;129mLocalFileTimeToFileTime\u001b[0m\n",
       "│   ├── \u001b[38;5;129mCreateDirectoryA\u001b[0m\n",
       "│   ├── \u001b[38;5;129mGetStartupInfoA\u001b[0m\n",
       "│   ├── \u001b[38;5;129mSetFilePointer\u001b[0m\n",
       "│   ├── \u001b[38;5;129mSetFileTime\u001b[0m\n",
       "│   ├── \u001b[38;5;129mGetComputerNameW\u001b[0m\n",
       "│   ├── \u001b[38;5;129mGetCurrentDirectoryA\u001b[0m\n",
       "│   ├── \u001b[38;5;129mSetCurrentDirectoryA\u001b[0m\n",
       "│   ├── \u001b[38;5;129mGlobalAlloc\u001b[0m\n",
       "│   ├── \u001b[38;5;129mLoadLibraryA\u001b[0m\n",
       "│   ├── \u001b[38;5;129mGetProcAddress\u001b[0m\n",
       "│   ├── \u001b[38;5;129mGlobalFree\u001b[0m\n",
       "│   ├── \u001b[38;5;129mCreateProcessA\u001b[0m\n",
       "│   ├── \u001b[38;5;129mCloseHandle\u001b[0m\n",
       "│   ├── \u001b[38;5;129mWaitForSingleObject\u001b[0m\n",
       "│   ├── \u001b[38;5;129mTerminateProcess\u001b[0m\n",
       "│   ├── \u001b[38;5;129mGetExitCodeProcess\u001b[0m\n",
       "│   └── \u001b[38;5;129mFindResourceA\u001b[0m\n",
       "├── \u001b[1;32mUSER32.dll\u001b[0m\n",
       "│   └── \u001b[38;5;129mwsprintfA\u001b[0m\n",
       "├── \u001b[1;32mADVAPI32.dll\u001b[0m\n",
       "│   ├── \u001b[38;5;129mCreateServiceA\u001b[0m\n",
       "│   ├── \u001b[38;5;129mOpenServiceA\u001b[0m\n",
       "│   ├── \u001b[38;5;129mStartServiceA\u001b[0m\n",
       "│   ├── \u001b[38;5;129mCloseServiceHandle\u001b[0m\n",
       "│   ├── \u001b[38;5;129mCryptReleaseContext\u001b[0m\n",
       "│   ├── \u001b[38;5;129mRegCreateKeyW\u001b[0m\n",
       "│   ├── \u001b[38;5;129mRegSetValueExA\u001b[0m\n",
       "│   ├── \u001b[38;5;129mRegQueryValueExA\u001b[0m\n",
       "│   ├── \u001b[38;5;129mRegCloseKey\u001b[0m\n",
       "│   └── \u001b[38;5;129mOpenSCManagerA\u001b[0m\n",
       "└── \u001b[1;32mMSVCRT.dll\u001b[0m\n",
       "    ├── \u001b[38;5;129mrealloc\u001b[0m\n",
       "    ├── \u001b[38;5;129mfclose\u001b[0m\n",
       "    ├── \u001b[38;5;129mfwrite\u001b[0m\n",
       "    ├── \u001b[38;5;129mfread\u001b[0m\n",
       "    ├── \u001b[38;5;129mfopen\u001b[0m\n",
       "    ├── \u001b[38;5;129msprintf\u001b[0m\n",
       "    ├── \u001b[38;5;129mrand\u001b[0m\n",
       "    ├── \u001b[38;5;129msrand\u001b[0m\n",
       "    ├── \u001b[38;5;129mstrcpy\u001b[0m\n",
       "    ├── \u001b[38;5;129mmemset\u001b[0m\n",
       "    ├── \u001b[38;5;129mstrlen\u001b[0m\n",
       "    ├── \u001b[38;5;129mwcscat\u001b[0m\n",
       "    ├── \u001b[38;5;129mwcslen\u001b[0m\n",
       "    ├── \u001b[38;5;129m__CxxFrameHandler\u001b[0m\n",
       "    ├── \u001b[38;5;129m??3@YAXPAX@Z\u001b[0m\n",
       "    ├── \u001b[38;5;129mmemcmp\u001b[0m\n",
       "    ├── \u001b[38;5;129m_except_handler3\u001b[0m\n",
       "    ├── \u001b[38;5;129m_local_unwind2\u001b[0m\n",
       "    ├── \u001b[38;5;129mwcsrchr\u001b[0m\n",
       "    ├── \u001b[38;5;129mswprintf\u001b[0m\n",
       "    ├── \u001b[38;5;129m??2@YAPAXI@Z\u001b[0m\n",
       "    ├── \u001b[38;5;129mmemcpy\u001b[0m\n",
       "    ├── \u001b[38;5;129mstrcmp\u001b[0m\n",
       "    ├── \u001b[38;5;129mstrrchr\u001b[0m\n",
       "    ├── \u001b[38;5;129m__p___argv\u001b[0m\n",
       "    ├── \u001b[38;5;129m__p___argc\u001b[0m\n",
       "    ├── \u001b[38;5;129m_stricmp\u001b[0m\n",
       "    ├── \u001b[38;5;129mfree\u001b[0m\n",
       "    ├── \u001b[38;5;129mmalloc\u001b[0m\n",
       "    ├── \u001b[38;5;129m??0exception@@QAE@ABV0@@Z\u001b[0m\n",
       "    ├── \u001b[38;5;129m??1exception@@UAE@XZ\u001b[0m\n",
       "    ├── \u001b[38;5;129m??0exception@@QAE@ABQBD@Z\u001b[0m\n",
       "    ├── \u001b[38;5;129m_CxxThrowException\u001b[0m\n",
       "    ├── \u001b[38;5;129mcalloc\u001b[0m\n",
       "    ├── \u001b[38;5;129mstrcat\u001b[0m\n",
       "    ├── \u001b[38;5;129m_mbsstr\u001b[0m\n",
       "    ├── \u001b[38;5;129m??1type_info@@UAE@XZ\u001b[0m\n",
       "    ├── \u001b[38;5;129m_exit\u001b[0m\n",
       "    ├── \u001b[38;5;129m_XcptFilter\u001b[0m\n",
       "    ├── \u001b[38;5;129mexit\u001b[0m\n",
       "    ├── \u001b[38;5;129m_acmdln\u001b[0m\n",
       "    ├── \u001b[38;5;129m__getmainargs\u001b[0m\n",
       "    ├── \u001b[38;5;129m_initterm\u001b[0m\n",
       "    ├── \u001b[38;5;129m__setusermatherr\u001b[0m\n",
       "    ├── \u001b[38;5;129m_adjust_fdiv\u001b[0m\n",
       "    ├── \u001b[38;5;129m__p__commode\u001b[0m\n",
       "    ├── \u001b[38;5;129m__p__fmode\u001b[0m\n",
       "    ├── \u001b[38;5;129m__set_app_type\u001b[0m\n",
       "    └── \u001b[38;5;129m_controlfp\u001b[0m\n"
      ]
     },
     "metadata": {},
     "output_type": "display_data"
    }
   ],
   "source": [
    " inspect_pe(\"sample_vg655_25th.exe\", sample_vg655_25th)"
   ]
  },
  {
   "cell_type": "markdown",
   "id": "65de24cc",
   "metadata": {},
   "source": [
    "Mientras que el archivo sample_vg655_25th.exe muestra una cantidad normal de llamadas a funciones de sistema, sample_qwrty_dk2 presenta una alarmantemente baja cantidad de llamadas al sistema. Esto puede significar que sample_qwrty_dk2 es un ejecutable prácticamente vacío o está empaquetado de alguna manera."
   ]
  },
  {
   "cell_type": "markdown",
   "id": "844530e9",
   "metadata": {},
   "source": [
    "**2. Obtenga la información de las secciones del PE Header. ¿Qué significa que algunas secciones tengan como parte de su nombre \"upx\"? Realice el procedimiento de desempaquetado para obtener las llamadas completas de las APIs.**"
   ]
  },
  {
   "cell_type": "code",
   "execution_count": 6,
   "id": "76f3250c",
   "metadata": {},
   "outputs": [],
   "source": [
    "def inspect_pe_headers(name: str, executable):\n",
    "    tree = Tree(\"[bold red]\" + name)\n",
    "    for section in executable.sections:\n",
    "        tree.add(\"[purple]\" + section.Name.decode('ascii'))\n",
    "    \n",
    "    print(tree)"
   ]
  },
  {
   "cell_type": "code",
   "execution_count": 7,
   "id": "35a8316f",
   "metadata": {},
   "outputs": [
    {
     "data": {
      "text/html": [
       "<pre style=\"white-space:pre;overflow-x:auto;line-height:normal;font-family:Menlo,'DejaVu Sans Mono',consolas,'Courier New',monospace\"><span style=\"color: #800000; text-decoration-color: #800000; font-weight: bold\">sample_vg655_25th.exe</span>\n",
       "├── <span style=\"color: #af00ff; text-decoration-color: #af00ff\">.text\u0000\u0000\u0000</span>\n",
       "├── <span style=\"color: #af00ff; text-decoration-color: #af00ff\">.rdata\u0000\u0000</span>\n",
       "├── <span style=\"color: #af00ff; text-decoration-color: #af00ff\">.data\u0000\u0000\u0000</span>\n",
       "└── <span style=\"color: #af00ff; text-decoration-color: #af00ff\">.rsrc\u0000\u0000\u0000</span>\n",
       "</pre>\n"
      ],
      "text/plain": [
       "\u001b[1;31msample_vg655_25th.exe\u001b[0m\n",
       "├── \u001b[38;5;129m.text\u0000\u0000\u0000\u001b[0m\n",
       "├── \u001b[38;5;129m.rdata\u0000\u0000\u001b[0m\n",
       "├── \u001b[38;5;129m.data\u0000\u0000\u0000\u001b[0m\n",
       "└── \u001b[38;5;129m.rsrc\u0000\u0000\u0000\u001b[0m\n"
      ]
     },
     "metadata": {},
     "output_type": "display_data"
    }
   ],
   "source": [
    "inspect_pe_headers(\"sample_vg655_25th.exe\", sample_vg655_25th)"
   ]
  },
  {
   "cell_type": "code",
   "execution_count": 8,
   "id": "51519eb0",
   "metadata": {},
   "outputs": [
    {
     "data": {
      "text/html": [
       "<pre style=\"white-space:pre;overflow-x:auto;line-height:normal;font-family:Menlo,'DejaVu Sans Mono',consolas,'Courier New',monospace\"><span style=\"color: #800000; text-decoration-color: #800000; font-weight: bold\">sample_qwrty_dk2</span>\n",
       "├── <span style=\"color: #af00ff; text-decoration-color: #af00ff\">UPX0\u0000\u0000\u0000\u0000</span>\n",
       "├── <span style=\"color: #af00ff; text-decoration-color: #af00ff\">UPX1\u0000\u0000\u0000\u0000</span>\n",
       "└── <span style=\"color: #af00ff; text-decoration-color: #af00ff\">.rsrc\u0000\u0000\u0000</span>\n",
       "</pre>\n"
      ],
      "text/plain": [
       "\u001b[1;31msample_qwrty_dk2\u001b[0m\n",
       "├── \u001b[38;5;129mUPX0\u0000\u0000\u0000\u0000\u001b[0m\n",
       "├── \u001b[38;5;129mUPX1\u0000\u0000\u0000\u0000\u001b[0m\n",
       "└── \u001b[38;5;129m.rsrc\u0000\u0000\u0000\u001b[0m\n"
      ]
     },
     "metadata": {},
     "output_type": "display_data"
    }
   ],
   "source": [
    "inspect_pe_headers(\"sample_qwrty_dk2\", sample_qwrty_dk2)"
   ]
  },
  {
   "cell_type": "markdown",
   "id": "45fb95a3",
   "metadata": {},
   "source": [
    "Al observar los headers de sample_qwrty_dk2, se puede observar headers con nombres UPX. UPX hace referencia a *Ultimate Packer for eXecutables*. Como su nombre menciona, UPX hace referencia a un empaquetador de de software."
   ]
  },
  {
   "cell_type": "code",
   "execution_count": 9,
   "id": "e6074a3c",
   "metadata": {
    "scrolled": true
   },
   "outputs": [
    {
     "name": "stdout",
     "output_type": "stream",
     "text": [
      "                       Ultimate Packer for eXecutables\r\n",
      "                          Copyright (C) 1996 - 2023\r\n",
      "UPX 4.0.2       Markus Oberhumer, Laszlo Molnar & John Reiser   Jan 30th 2023\r\n",
      "\r\n",
      "        File size         Ratio      Format      Name\r\n",
      "   --------------------   ------   -----------   -----------\r\n",
      "      8192 <-      5632   68.75%    win32/pe     sample_qwrty_dk2_unpacked\r\n",
      "\r\n",
      "Unpacked 1 file.\r\n"
     ]
    }
   ],
   "source": [
    "!cd MALWR && cp ./sample_qwrty_dk2 ./sample_qwrty_dk2_unpacked && upx -d sample_qwrty_dk2_unpacked"
   ]
  },
  {
   "cell_type": "code",
   "execution_count": 10,
   "id": "6ed41bdc",
   "metadata": {},
   "outputs": [],
   "source": [
    "sample_qwrty_dk2_unpacked = pe.PE(\"./MALWR/sample_qwrty_dk2_unpacked\")"
   ]
  },
  {
   "cell_type": "code",
   "execution_count": 11,
   "id": "7182c3d8",
   "metadata": {},
   "outputs": [
    {
     "data": {
      "text/html": [
       "<pre style=\"white-space:pre;overflow-x:auto;line-height:normal;font-family:Menlo,'DejaVu Sans Mono',consolas,'Courier New',monospace\"><span style=\"color: #800000; text-decoration-color: #800000; font-weight: bold\">sample_qwrty_dk2_unpacked</span>\n",
       "├── <span style=\"color: #af00ff; text-decoration-color: #af00ff\">.text\u0000\u0000\u0000</span>\n",
       "├── <span style=\"color: #af00ff; text-decoration-color: #af00ff\">.rdata\u0000\u0000</span>\n",
       "├── <span style=\"color: #af00ff; text-decoration-color: #af00ff\">.data\u0000\u0000\u0000</span>\n",
       "└── <span style=\"color: #af00ff; text-decoration-color: #af00ff\">.rsrc\u0000\u0000\u0000</span>\n",
       "</pre>\n"
      ],
      "text/plain": [
       "\u001b[1;31msample_qwrty_dk2_unpacked\u001b[0m\n",
       "├── \u001b[38;5;129m.text\u0000\u0000\u0000\u001b[0m\n",
       "├── \u001b[38;5;129m.rdata\u0000\u0000\u001b[0m\n",
       "├── \u001b[38;5;129m.data\u0000\u0000\u0000\u001b[0m\n",
       "└── \u001b[38;5;129m.rsrc\u0000\u0000\u0000\u001b[0m\n"
      ]
     },
     "metadata": {},
     "output_type": "display_data"
    }
   ],
   "source": [
    "inspect_pe_headers(\"sample_qwrty_dk2_unpacked\", sample_qwrty_dk2_unpacked)"
   ]
  },
  {
   "cell_type": "code",
   "execution_count": 12,
   "id": "7fc73bce",
   "metadata": {},
   "outputs": [
    {
     "data": {
      "text/html": [
       "<pre style=\"white-space:pre;overflow-x:auto;line-height:normal;font-family:Menlo,'DejaVu Sans Mono',consolas,'Courier New',monospace\"><span style=\"color: #800000; text-decoration-color: #800000; font-weight: bold\">sample_qwrty_dk2_unpacked</span>\n",
       "├── <span style=\"color: #008000; text-decoration-color: #008000; font-weight: bold\">KERNEL32.DLL</span>\n",
       "│   ├── <span style=\"color: #af00ff; text-decoration-color: #af00ff\">CloseHandle</span>\n",
       "│   ├── <span style=\"color: #af00ff; text-decoration-color: #af00ff\">WaitForSingleObject</span>\n",
       "│   ├── <span style=\"color: #af00ff; text-decoration-color: #af00ff\">CreateEventA</span>\n",
       "│   ├── <span style=\"color: #af00ff; text-decoration-color: #af00ff\">ExitThread</span>\n",
       "│   ├── <span style=\"color: #af00ff; text-decoration-color: #af00ff\">Sleep</span>\n",
       "│   ├── <span style=\"color: #af00ff; text-decoration-color: #af00ff\">GetComputerNameA</span>\n",
       "│   ├── <span style=\"color: #af00ff; text-decoration-color: #af00ff\">CreatePipe</span>\n",
       "│   ├── <span style=\"color: #af00ff; text-decoration-color: #af00ff\">DisconnectNamedPipe</span>\n",
       "│   ├── <span style=\"color: #af00ff; text-decoration-color: #af00ff\">TerminateProcess</span>\n",
       "│   ├── <span style=\"color: #af00ff; text-decoration-color: #af00ff\">WaitForMultipleObjects</span>\n",
       "│   ├── <span style=\"color: #af00ff; text-decoration-color: #af00ff\">TerminateThread</span>\n",
       "│   ├── <span style=\"color: #af00ff; text-decoration-color: #af00ff\">CreateThread</span>\n",
       "│   ├── <span style=\"color: #af00ff; text-decoration-color: #af00ff\">CreateProcessA</span>\n",
       "│   ├── <span style=\"color: #af00ff; text-decoration-color: #af00ff\">DuplicateHandle</span>\n",
       "│   ├── <span style=\"color: #af00ff; text-decoration-color: #af00ff\">GetCurrentProcess</span>\n",
       "│   ├── <span style=\"color: #af00ff; text-decoration-color: #af00ff\">ReadFile</span>\n",
       "│   ├── <span style=\"color: #af00ff; text-decoration-color: #af00ff\">PeekNamedPipe</span>\n",
       "│   ├── <span style=\"color: #af00ff; text-decoration-color: #af00ff\">SetEvent</span>\n",
       "│   ├── <span style=\"color: #af00ff; text-decoration-color: #af00ff\">WriteFile</span>\n",
       "│   ├── <span style=\"color: #af00ff; text-decoration-color: #af00ff\">SetProcessPriorityBoost</span>\n",
       "│   ├── <span style=\"color: #af00ff; text-decoration-color: #af00ff\">SetThreadPriority</span>\n",
       "│   ├── <span style=\"color: #af00ff; text-decoration-color: #af00ff\">GetCurrentThread</span>\n",
       "│   ├── <span style=\"color: #af00ff; text-decoration-color: #af00ff\">SetPriorityClass</span>\n",
       "│   ├── <span style=\"color: #af00ff; text-decoration-color: #af00ff\">lstrcatA</span>\n",
       "│   ├── <span style=\"color: #af00ff; text-decoration-color: #af00ff\">lstrcpyA</span>\n",
       "│   ├── <span style=\"color: #af00ff; text-decoration-color: #af00ff\">GetEnvironmentVariableA</span>\n",
       "│   ├── <span style=\"color: #af00ff; text-decoration-color: #af00ff\">GetShortPathNameA</span>\n",
       "│   ├── <span style=\"color: #af00ff; text-decoration-color: #af00ff\">GetModuleFileNameA</span>\n",
       "│   ├── <span style=\"color: #af00ff; text-decoration-color: #af00ff\">GetStartupInfoA</span>\n",
       "│   └── <span style=\"color: #af00ff; text-decoration-color: #af00ff\">GetModuleHandleA</span>\n",
       "├── <span style=\"color: #008000; text-decoration-color: #008000; font-weight: bold\">MSVCRT.dll</span>\n",
       "│   ├── <span style=\"color: #af00ff; text-decoration-color: #af00ff\">_controlfp</span>\n",
       "│   ├── <span style=\"color: #af00ff; text-decoration-color: #af00ff\">_beginthread</span>\n",
       "│   ├── <span style=\"color: #af00ff; text-decoration-color: #af00ff\">_strnicmp</span>\n",
       "│   ├── <span style=\"color: #af00ff; text-decoration-color: #af00ff\">sprintf</span>\n",
       "│   ├── <span style=\"color: #af00ff; text-decoration-color: #af00ff\">atol</span>\n",
       "│   ├── <span style=\"color: #af00ff; text-decoration-color: #af00ff\">strchr</span>\n",
       "│   ├── <span style=\"color: #af00ff; text-decoration-color: #af00ff\">free</span>\n",
       "│   ├── <span style=\"color: #af00ff; text-decoration-color: #af00ff\">malloc</span>\n",
       "│   ├── <span style=\"color: #af00ff; text-decoration-color: #af00ff\">_exit</span>\n",
       "│   ├── <span style=\"color: #af00ff; text-decoration-color: #af00ff\">_XcptFilter</span>\n",
       "│   ├── <span style=\"color: #af00ff; text-decoration-color: #af00ff\">exit</span>\n",
       "│   ├── <span style=\"color: #af00ff; text-decoration-color: #af00ff\">_acmdln</span>\n",
       "│   ├── <span style=\"color: #af00ff; text-decoration-color: #af00ff\">__getmainargs</span>\n",
       "│   ├── <span style=\"color: #af00ff; text-decoration-color: #af00ff\">_initterm</span>\n",
       "│   ├── <span style=\"color: #af00ff; text-decoration-color: #af00ff\">__setusermatherr</span>\n",
       "│   ├── <span style=\"color: #af00ff; text-decoration-color: #af00ff\">_adjust_fdiv</span>\n",
       "│   ├── <span style=\"color: #af00ff; text-decoration-color: #af00ff\">__p__commode</span>\n",
       "│   ├── <span style=\"color: #af00ff; text-decoration-color: #af00ff\">__p__fmode</span>\n",
       "│   ├── <span style=\"color: #af00ff; text-decoration-color: #af00ff\">__set_app_type</span>\n",
       "│   ├── <span style=\"color: #af00ff; text-decoration-color: #af00ff\">_except_handler3</span>\n",
       "│   └── <span style=\"color: #af00ff; text-decoration-color: #af00ff\">_itoa</span>\n",
       "├── <span style=\"color: #008000; text-decoration-color: #008000; font-weight: bold\">SHELL32.dll</span>\n",
       "│   ├── <span style=\"color: #af00ff; text-decoration-color: #af00ff\">ShellExecuteExA</span>\n",
       "│   └── <span style=\"color: #af00ff; text-decoration-color: #af00ff\">SHChangeNotify</span>\n",
       "├── <span style=\"color: #008000; text-decoration-color: #008000; font-weight: bold\">USER32.dll</span>\n",
       "│   └── <span style=\"color: #af00ff; text-decoration-color: #af00ff\">LoadStringA</span>\n",
       "└── <span style=\"color: #008000; text-decoration-color: #008000; font-weight: bold\">WS2_32.dll</span>\n",
       "    ├── <span style=\"color: #af00ff; text-decoration-color: #af00ff\">htons</span>\n",
       "    ├── <span style=\"color: #af00ff; text-decoration-color: #af00ff\">connect</span>\n",
       "    ├── <span style=\"color: #af00ff; text-decoration-color: #af00ff\">socket</span>\n",
       "    ├── <span style=\"color: #af00ff; text-decoration-color: #af00ff\">WSAStartup</span>\n",
       "    ├── <span style=\"color: #af00ff; text-decoration-color: #af00ff\">send</span>\n",
       "    ├── <span style=\"color: #af00ff; text-decoration-color: #af00ff\">inet_addr</span>\n",
       "    ├── <span style=\"color: #af00ff; text-decoration-color: #af00ff\">recv</span>\n",
       "    └── <span style=\"color: #af00ff; text-decoration-color: #af00ff\">closesocket</span>\n",
       "</pre>\n"
      ],
      "text/plain": [
       "\u001b[1;31msample_qwrty_dk2_unpacked\u001b[0m\n",
       "├── \u001b[1;32mKERNEL32.DLL\u001b[0m\n",
       "│   ├── \u001b[38;5;129mCloseHandle\u001b[0m\n",
       "│   ├── \u001b[38;5;129mWaitForSingleObject\u001b[0m\n",
       "│   ├── \u001b[38;5;129mCreateEventA\u001b[0m\n",
       "│   ├── \u001b[38;5;129mExitThread\u001b[0m\n",
       "│   ├── \u001b[38;5;129mSleep\u001b[0m\n",
       "│   ├── \u001b[38;5;129mGetComputerNameA\u001b[0m\n",
       "│   ├── \u001b[38;5;129mCreatePipe\u001b[0m\n",
       "│   ├── \u001b[38;5;129mDisconnectNamedPipe\u001b[0m\n",
       "│   ├── \u001b[38;5;129mTerminateProcess\u001b[0m\n",
       "│   ├── \u001b[38;5;129mWaitForMultipleObjects\u001b[0m\n",
       "│   ├── \u001b[38;5;129mTerminateThread\u001b[0m\n",
       "│   ├── \u001b[38;5;129mCreateThread\u001b[0m\n",
       "│   ├── \u001b[38;5;129mCreateProcessA\u001b[0m\n",
       "│   ├── \u001b[38;5;129mDuplicateHandle\u001b[0m\n",
       "│   ├── \u001b[38;5;129mGetCurrentProcess\u001b[0m\n",
       "│   ├── \u001b[38;5;129mReadFile\u001b[0m\n",
       "│   ├── \u001b[38;5;129mPeekNamedPipe\u001b[0m\n",
       "│   ├── \u001b[38;5;129mSetEvent\u001b[0m\n",
       "│   ├── \u001b[38;5;129mWriteFile\u001b[0m\n",
       "│   ├── \u001b[38;5;129mSetProcessPriorityBoost\u001b[0m\n",
       "│   ├── \u001b[38;5;129mSetThreadPriority\u001b[0m\n",
       "│   ├── \u001b[38;5;129mGetCurrentThread\u001b[0m\n",
       "│   ├── \u001b[38;5;129mSetPriorityClass\u001b[0m\n",
       "│   ├── \u001b[38;5;129mlstrcatA\u001b[0m\n",
       "│   ├── \u001b[38;5;129mlstrcpyA\u001b[0m\n",
       "│   ├── \u001b[38;5;129mGetEnvironmentVariableA\u001b[0m\n",
       "│   ├── \u001b[38;5;129mGetShortPathNameA\u001b[0m\n",
       "│   ├── \u001b[38;5;129mGetModuleFileNameA\u001b[0m\n",
       "│   ├── \u001b[38;5;129mGetStartupInfoA\u001b[0m\n",
       "│   └── \u001b[38;5;129mGetModuleHandleA\u001b[0m\n",
       "├── \u001b[1;32mMSVCRT.dll\u001b[0m\n",
       "│   ├── \u001b[38;5;129m_controlfp\u001b[0m\n",
       "│   ├── \u001b[38;5;129m_beginthread\u001b[0m\n",
       "│   ├── \u001b[38;5;129m_strnicmp\u001b[0m\n",
       "│   ├── \u001b[38;5;129msprintf\u001b[0m\n",
       "│   ├── \u001b[38;5;129matol\u001b[0m\n",
       "│   ├── \u001b[38;5;129mstrchr\u001b[0m\n",
       "│   ├── \u001b[38;5;129mfree\u001b[0m\n",
       "│   ├── \u001b[38;5;129mmalloc\u001b[0m\n",
       "│   ├── \u001b[38;5;129m_exit\u001b[0m\n",
       "│   ├── \u001b[38;5;129m_XcptFilter\u001b[0m\n",
       "│   ├── \u001b[38;5;129mexit\u001b[0m\n",
       "│   ├── \u001b[38;5;129m_acmdln\u001b[0m\n",
       "│   ├── \u001b[38;5;129m__getmainargs\u001b[0m\n",
       "│   ├── \u001b[38;5;129m_initterm\u001b[0m\n",
       "│   ├── \u001b[38;5;129m__setusermatherr\u001b[0m\n",
       "│   ├── \u001b[38;5;129m_adjust_fdiv\u001b[0m\n",
       "│   ├── \u001b[38;5;129m__p__commode\u001b[0m\n",
       "│   ├── \u001b[38;5;129m__p__fmode\u001b[0m\n",
       "│   ├── \u001b[38;5;129m__set_app_type\u001b[0m\n",
       "│   ├── \u001b[38;5;129m_except_handler3\u001b[0m\n",
       "│   └── \u001b[38;5;129m_itoa\u001b[0m\n",
       "├── \u001b[1;32mSHELL32.dll\u001b[0m\n",
       "│   ├── \u001b[38;5;129mShellExecuteExA\u001b[0m\n",
       "│   └── \u001b[38;5;129mSHChangeNotify\u001b[0m\n",
       "├── \u001b[1;32mUSER32.dll\u001b[0m\n",
       "│   └── \u001b[38;5;129mLoadStringA\u001b[0m\n",
       "└── \u001b[1;32mWS2_32.dll\u001b[0m\n",
       "    ├── \u001b[38;5;129mhtons\u001b[0m\n",
       "    ├── \u001b[38;5;129mconnect\u001b[0m\n",
       "    ├── \u001b[38;5;129msocket\u001b[0m\n",
       "    ├── \u001b[38;5;129mWSAStartup\u001b[0m\n",
       "    ├── \u001b[38;5;129msend\u001b[0m\n",
       "    ├── \u001b[38;5;129minet_addr\u001b[0m\n",
       "    ├── \u001b[38;5;129mrecv\u001b[0m\n",
       "    └── \u001b[38;5;129mclosesocket\u001b[0m\n"
      ]
     },
     "metadata": {},
     "output_type": "display_data"
    }
   ],
   "source": [
    "inspect_pe(\"sample_qwrty_dk2_unpacked\", sample_qwrty_dk2_unpacked)"
   ]
  },
  {
   "cell_type": "markdown",
   "id": "c02c79c0",
   "metadata": {},
   "source": [
    "Una vez desempaquetado, se puede notar como el ejecutable sample_qwrty_dk2 ahora muestra una cantidad mucho mayor de llamadas a APIs del sistema. "
   ]
  },
  {
   "cell_type": "markdown",
   "id": "70b9503b",
   "metadata": {},
   "source": [
    "**3. Según el paper \"Towards Understanding Malware Behaviour by the Extraction of API Calls\", ¿en qué categoría sospechosas pueden clasificarse estos ejemplos en base a algunas de las llamadas a las APIs que realizan? Muestre una tabla con las APIs sospechosas y la categoría de malware que el paper propone.**"
   ]
  },
  {
   "cell_type": "code",
   "execution_count": 13,
   "id": "fd626d23",
   "metadata": {},
   "outputs": [],
   "source": [
    "behaviours = [\n",
    "    (\"Search Files to Infect\", {\n",
    "        \"FindClose\", \"FindFirstFile\", \"FindFirstFileEx\", \"FindFirstFileName\", \"TransactedW\", \n",
    "        \"FindFirstFileNameW\", \"FindFirstFileTransacted\", \"FindFirstStream\", \"TransactedW\", \n",
    "        \"FindFirstStreamW\", \"FindNextFile\", \"FindNextFileNameW\", \"FindNextStreamW\", \"SearchPath\",\n",
    "    }),\n",
    "    \n",
    "    (\"Copy/Delete Files\", {\n",
    "        \"CloseHandle\", \"CopyFile\", \"CopyFileEx\", \"CopyFileTransacted\", \"CreateFile\", \n",
    "        \"CreateFileTransacted\", \"CreateHardLink\", \"CreateHardLink\", \"Transacted\", \"CreateSymbolicLink\", \n",
    "        \"CreateSymbolic\", \"LinkTransacted\", \"DeleteFile\", \"DeleteFileTransacted\",\n",
    "    }),\n",
    "    \n",
    "    (\"Get File Information\", {\n",
    "        \"GetBinaryType\", \"GetCompressed\", \"FileSize\", \"GetCompressedFile\", \"SizeTransacted\", \n",
    "        \"GetFileAttributes\", \"GetFileAttributesEx\", \"GetFileAttributes\", \"Transacted\", \"GetFileBandwidth\", \n",
    "        \"Reservation\", \"GetFileInformation\", \"ByHandle\", \"GetFileInformation\", \"ByHandleEx\", \"GetFileSize\", \n",
    "        \"GetFileSizeEx\", \"GetFileType\", \"GetFinalPathName\", \"ByHandle\", \"GetFullPathName\", \"GetFullPathName\", \n",
    "        \"Transacted\", \"GetLongPathName\", \"GetLongPathName\", \"Transacted\", \"GetShortPathName\", \n",
    "        \"GetTempFileName\", \"GetTempPath\",\n",
    "    }),\n",
    "    \n",
    "    (\"Move Files\", {\n",
    "        \"MoveFile\", \"MoveFileEx\", \"MoveFileTransacted\", \"MoveFileWithProgress\",\n",
    "    }),\n",
    "    \n",
    "    (\"Read/Write Files\", {\n",
    "        \"OpenFile\", \"OpenFileById\", \"ReOpenFile\", \"ReplaceFile\", \"WriteFile\", \"CreateFile\", \"CloseHandle\"\n",
    "    }),\n",
    "    \n",
    "    (\"Change File Attributes\", {\n",
    "        \"SetFileApisToANSI\", \"SetFileApisToOEM\", \"SetFileAttributes\", \"SetFileAttributesTransacted\", \n",
    "        \"SetFileBandwidthReservation\", \"SetFileInformationByHandle\", \"SetFileShortName\", \"SetFileValidData\"\n",
    "    })\n",
    "]"
   ]
  },
  {
   "cell_type": "code",
   "execution_count": 14,
   "id": "23706b77",
   "metadata": {},
   "outputs": [],
   "source": [
    "def classify_behaviour(name: str, executable):\n",
    "    found_behaviours = set()\n",
    "    \n",
    "    for entry in executable.DIRECTORY_ENTRY_IMPORT:\n",
    "        for function in entry.imports:\n",
    "            found_behaviours.add(function.name.decode('ascii'))\n",
    "    \n",
    "    table = Table(title=name)\n",
    "    table.add_column(\"Behaviour\")\n",
    "    table.add_column(\"Malware Category\")\n",
    "    table.add_column(\"API Function Calls\")\n",
    "    \n",
    "    for i, behaviour in enumerate(behaviours):\n",
    "        name, behaviour = behaviour\n",
    "        matching_apis = behaviour.intersection(found_behaviours)\n",
    "        \n",
    "        if len(matching_apis) != 0:\n",
    "            table.add_row(str(i+1), name, str(matching_apis))\n",
    "    \n",
    "    print(table)"
   ]
  },
  {
   "cell_type": "code",
   "execution_count": 15,
   "id": "587c0328",
   "metadata": {
    "scrolled": false
   },
   "outputs": [
    {
     "data": {
      "text/html": [
       "<pre style=\"white-space:pre;overflow-x:auto;line-height:normal;font-family:Menlo,'DejaVu Sans Mono',consolas,'Courier New',monospace\"><span style=\"font-style: italic\">                         sample_vg655_25th.exe                         </span>\n",
       "┏━━━━━━━━━━━┳━━━━━━━━━━━━━━━━━━━━━━┳━━━━━━━━━━━━━━━━━━━━━━━━━━━━━━━━━━┓\n",
       "┃<span style=\"font-weight: bold\"> Behaviour </span>┃<span style=\"font-weight: bold\"> Malware Category     </span>┃<span style=\"font-weight: bold\"> API Function Calls               </span>┃\n",
       "┡━━━━━━━━━━━╇━━━━━━━━━━━━━━━━━━━━━━╇━━━━━━━━━━━━━━━━━━━━━━━━━━━━━━━━━━┩\n",
       "│ 2         │ Copy/Delete Files    │ {'CloseHandle'}                  │\n",
       "│ 3         │ Get File Information │ {'GetFileSizeEx', 'GetFileSize'} │\n",
       "│ 5         │ Read/Write Files     │ {'CloseHandle', 'WriteFile'}     │\n",
       "└───────────┴──────────────────────┴──────────────────────────────────┘\n",
       "</pre>\n"
      ],
      "text/plain": [
       "\u001b[3m                         sample_vg655_25th.exe                         \u001b[0m\n",
       "┏━━━━━━━━━━━┳━━━━━━━━━━━━━━━━━━━━━━┳━━━━━━━━━━━━━━━━━━━━━━━━━━━━━━━━━━┓\n",
       "┃\u001b[1m \u001b[0m\u001b[1mBehaviour\u001b[0m\u001b[1m \u001b[0m┃\u001b[1m \u001b[0m\u001b[1mMalware Category    \u001b[0m\u001b[1m \u001b[0m┃\u001b[1m \u001b[0m\u001b[1mAPI Function Calls              \u001b[0m\u001b[1m \u001b[0m┃\n",
       "┡━━━━━━━━━━━╇━━━━━━━━━━━━━━━━━━━━━━╇━━━━━━━━━━━━━━━━━━━━━━━━━━━━━━━━━━┩\n",
       "│ 2         │ Copy/Delete Files    │ {'CloseHandle'}                  │\n",
       "│ 3         │ Get File Information │ {'GetFileSizeEx', 'GetFileSize'} │\n",
       "│ 5         │ Read/Write Files     │ {'CloseHandle', 'WriteFile'}     │\n",
       "└───────────┴──────────────────────┴──────────────────────────────────┘\n"
      ]
     },
     "metadata": {},
     "output_type": "display_data"
    },
    {
     "data": {
      "text/html": [
       "<pre style=\"white-space:pre;overflow-x:auto;line-height:normal;font-family:Menlo,'DejaVu Sans Mono',consolas,'Courier New',monospace\"><span style=\"font-style: italic\">                  sample_qwrty_dk2                   </span>\n",
       "┏━━━━━━━━━━━┳━━━━━━━━━━━━━━━━━━┳━━━━━━━━━━━━━━━━━━━━┓\n",
       "┃<span style=\"font-weight: bold\"> Behaviour </span>┃<span style=\"font-weight: bold\"> Malware Category </span>┃<span style=\"font-weight: bold\"> API Function Calls </span>┃\n",
       "┡━━━━━━━━━━━╇━━━━━━━━━━━━━━━━━━╇━━━━━━━━━━━━━━━━━━━━┩\n",
       "└───────────┴──────────────────┴────────────────────┘\n",
       "</pre>\n"
      ],
      "text/plain": [
       "\u001b[3m                  sample_qwrty_dk2                   \u001b[0m\n",
       "┏━━━━━━━━━━━┳━━━━━━━━━━━━━━━━━━┳━━━━━━━━━━━━━━━━━━━━┓\n",
       "┃\u001b[1m \u001b[0m\u001b[1mBehaviour\u001b[0m\u001b[1m \u001b[0m┃\u001b[1m \u001b[0m\u001b[1mMalware Category\u001b[0m\u001b[1m \u001b[0m┃\u001b[1m \u001b[0m\u001b[1mAPI Function Calls\u001b[0m\u001b[1m \u001b[0m┃\n",
       "┡━━━━━━━━━━━╇━━━━━━━━━━━━━━━━━━╇━━━━━━━━━━━━━━━━━━━━┩\n",
       "└───────────┴──────────────────┴────────────────────┘\n"
      ]
     },
     "metadata": {},
     "output_type": "display_data"
    },
    {
     "data": {
      "text/html": [
       "<pre style=\"white-space:pre;overflow-x:auto;line-height:normal;font-family:Menlo,'DejaVu Sans Mono',consolas,'Courier New',monospace\"><span style=\"font-style: italic\">                   sample_qwrty_dk2_unpacked                    </span>\n",
       "┏━━━━━━━━━━━┳━━━━━━━━━━━━━━━━━━━┳━━━━━━━━━━━━━━━━━━━━━━━━━━━━━━┓\n",
       "┃<span style=\"font-weight: bold\"> Behaviour </span>┃<span style=\"font-weight: bold\"> Malware Category  </span>┃<span style=\"font-weight: bold\"> API Function Calls           </span>┃\n",
       "┡━━━━━━━━━━━╇━━━━━━━━━━━━━━━━━━━╇━━━━━━━━━━━━━━━━━━━━━━━━━━━━━━┩\n",
       "│ 2         │ Copy/Delete Files │ {'CloseHandle'}              │\n",
       "│ 5         │ Read/Write Files  │ {'CloseHandle', 'WriteFile'} │\n",
       "└───────────┴───────────────────┴──────────────────────────────┘\n",
       "</pre>\n"
      ],
      "text/plain": [
       "\u001b[3m                   sample_qwrty_dk2_unpacked                    \u001b[0m\n",
       "┏━━━━━━━━━━━┳━━━━━━━━━━━━━━━━━━━┳━━━━━━━━━━━━━━━━━━━━━━━━━━━━━━┓\n",
       "┃\u001b[1m \u001b[0m\u001b[1mBehaviour\u001b[0m\u001b[1m \u001b[0m┃\u001b[1m \u001b[0m\u001b[1mMalware Category \u001b[0m\u001b[1m \u001b[0m┃\u001b[1m \u001b[0m\u001b[1mAPI Function Calls          \u001b[0m\u001b[1m \u001b[0m┃\n",
       "┡━━━━━━━━━━━╇━━━━━━━━━━━━━━━━━━━╇━━━━━━━━━━━━━━━━━━━━━━━━━━━━━━┩\n",
       "│ 2         │ Copy/Delete Files │ {'CloseHandle'}              │\n",
       "│ 5         │ Read/Write Files  │ {'CloseHandle', 'WriteFile'} │\n",
       "└───────────┴───────────────────┴──────────────────────────────┘\n"
      ]
     },
     "metadata": {},
     "output_type": "display_data"
    }
   ],
   "source": [
    "classify_behaviour(\"sample_vg655_25th.exe\", sample_vg655_25th)\n",
    "classify_behaviour(\"sample_qwrty_dk2\", sample_qwrty_dk2)\n",
    "classify_behaviour(\"sample_qwrty_dk2_unpacked\", sample_qwrty_dk2_unpacked)"
   ]
  },
  {
   "cell_type": "markdown",
   "id": "065209e4",
   "metadata": {},
   "source": [
    "**4. Para el archivo \"sample_vg655_25th.exe\" obtenga el HASH en base al algoritmo SHA256.**"
   ]
  },
  {
   "cell_type": "code",
   "execution_count": 16,
   "id": "e4f2a863",
   "metadata": {
    "scrolled": false
   },
   "outputs": [
    {
     "data": {
      "text/html": [
       "<pre style=\"white-space:pre;overflow-x:auto;line-height:normal;font-family:Menlo,'DejaVu Sans Mono',consolas,'Courier New',monospace\">ed01ebfbc9eb5bbea545af4d01bf5f1071661840480439c6e5babe8e080e41aa\n",
       "</pre>\n"
      ],
      "text/plain": [
       "ed01ebfbc9eb5bbea545af4d01bf5f1071661840480439c6e5babe8e080e41aa\n"
      ]
     },
     "metadata": {},
     "output_type": "display_data"
    }
   ],
   "source": [
    "with open(\"./MALWR/sample_vg655_25th.exe\", \"rb\") as file:\n",
    "    print(file_digest(file, \"sha256\").hexdigest())"
   ]
  },
  {
   "cell_type": "markdown",
   "id": "2878d971",
   "metadata": {},
   "source": [
    "**5. Para el archivo \"sample_vg655_25th.exe\", ¿cuál es el propósito de la DLL ADVAPI32.dll?**"
   ]
  },
  {
   "cell_type": "markdown",
   "id": "66d02a14",
   "metadata": {},
   "source": [
    "La DLL ADVAPI32.dll, también conocida como Advanced Windows 32 Base API permite al usuario:\n",
    "- Modificar el Registro de Windows\n",
    "- Apagar y enceder el dispositivo\n",
    "- Iniciar, parar y crear Servicios\n",
    "- Manejar a los usuarios\n",
    "\n",
    "[StackOverflow (2021)](https://stackoverflow.com/questions/9194638/anyone-knows-what-does-advapi-stand-for)"
   ]
  },
  {
   "cell_type": "markdown",
   "id": "5895596e",
   "metadata": {},
   "source": [
    "**6. Para el archivo \"sample_vg655_25th.exe\", ¿cuál es el propósito de la API CryptReleaseContext?**"
   ]
  },
  {
   "cell_type": "markdown",
   "id": "5ba7b018",
   "metadata": {},
   "source": [
    "CryptReleaseContext es un *Cryptographic Service Provider*. Básicamente es un módulo de software encargado de utilizar criptografía para autenticar, encriptar y desencriptar.\n",
    "\n",
    "[Microsoft, 2021](https://learn.microsoft.com/en-us/windows/win32/api/wincrypt/nf-wincrypt-cryptreleasecontext)"
   ]
  },
  {
   "cell_type": "markdown",
   "id": "81eec421",
   "metadata": {},
   "source": [
    "**7. Con la información recopilada hasta el momento, indique para el archivo \"sample_vg655_25th.exe\" si es sospechoso o no, y cuál podría ser su propósito.**"
   ]
  },
  {
   "cell_type": "markdown",
   "id": "c86bfac4",
   "metadata": {},
   "source": [
    "Tomando en cuenta sample_vg655_25th es capaz de encriptar, leer, escribir y modificar archivos; podemos concluir que el ejecutable es sopechoso de ser un malware. Específicamente, tenemos buenas razones para sospechar que sample_vg655_25th es un Ransomware. De manera que leería los archivos en tu computador y los encriptaría."
   ]
  },
  {
   "cell_type": "markdown",
   "id": "87ebdf99",
   "metadata": {},
   "source": [
    "## Parte 2 - Análisis dinámico"
   ]
  },
  {
   "cell_type": "markdown",
   "id": "b100b6a5",
   "metadata": {},
   "source": [
    "**8. Utilice la plataforma de análisis dinámico https://www.hybrid-analysis.com y cargue el archivo \"sample_vg655_25th.exe\". ¿Se corresponde el HASH de la plataforma con el generado? ¿Cuál es el nombre del malware encontrado? ¿Cuál es el propósito de este malware?**"
   ]
  },
  {
   "cell_type": "markdown",
   "id": "2f376d3b",
   "metadata": {},
   "source": [
    "El [análisis generado](https://www.hybrid-analysis.com/sample/ed01ebfbc9eb5bbea545af4d01bf5f1071661840480439c6e5babe8e080e41aa) muestra el mismo Hash generado con el de la plataforma. Este malware tiene el nombre de owo_im_not_ransomware_xd.exe. \n",
    "\n",
    "Asimismo, la plataforma muestra que el malware efectivamente es un Ransomware."
   ]
  },
  {
   "cell_type": "markdown",
   "id": "d035d263",
   "metadata": {},
   "source": [
    "**9. Muestre las capturas de pantalla sobre los mensajes que este malware presenta a usuario. ¿Se corresponden las sospechas con el análisis realizado en el punto 7?**"
   ]
  },
  {
   "cell_type": "markdown",
   "id": "d5c70799",
   "metadata": {},
   "source": [
    "![desktop](https://www.hybrid-analysis.com/file-inline/60d9e5a39ffc8516db45537f/screenshot/screen_1.png)\n",
    "\n",
    "![threat](https://www.hybrid-analysis.com/file-inline/60d9e5a39ffc8516db45537f/screenshot/screen_2.png)\n",
    "\n",
    "Las siguientes capturas confirman las sospechas realizadas en el punto 7. Efectivamente, el Malware era un Ransomware."
   ]
  }
 ],
 "metadata": {
  "kernelspec": {
   "display_name": "Python 3 (ipykernel)",
   "language": "python",
   "name": "python3"
  },
  "language_info": {
   "codemirror_mode": {
    "name": "ipython",
    "version": 3
   },
   "file_extension": ".py",
   "mimetype": "text/x-python",
   "name": "python",
   "nbconvert_exporter": "python",
   "pygments_lexer": "ipython3",
   "version": "3.10.6"
  }
 },
 "nbformat": 4,
 "nbformat_minor": 5
}
